{
 "cells": [
  {
   "cell_type": "markdown",
   "metadata": {},
   "source": [
    "We want to count ordered pairs of functions $(f,g)$ that satisfy certain identities.  This notebook collects identities where there is a straightforward combinatorial counting argument for such pairs.\n",
    "\n",
    "First, let us look at $gf=f$, ([A239750](https://oeis.org/A239750)) which has been completely solved previously, but nicely illustrates the basic combinatorial reasoning for these problems.  Here $g$ is the identity on the image of $f$, and arbitrary elsewhere.  There are two ways of looking at this, first if $k$ is the size of the image of $f$ then there are $k!\\left\\{n\\atop k\\right\\}$ such functions $f$ and $n^{n-k}$ functions $g$ that are the identity on the image of $f$, so we have\n",
    "$$\\#(f,g)=\\sum_{k=0}^n\\binom{n}{k}\\left\\{n\\atop k\\right\\}k!\\; n^{n-k}.$$\n",
    "\n",
    "On the other hand, if we start with functions $g$ that are the identity on $k$ points, then $f$ must map into the points where $g$ is the identity.  There are ${(n-1)}^{n-k}$ such functions $g$, and $k^n$ such functions $f$ so we also have\n",
    "$$\\#(f,g)=\\sum_{k=0}^n\\binom{n}{k}k^n{(n-1)}^{n-k}$$\n",
    "\n",
    "Note that this also counts $gf=f^j$ for any $j>0$ as $g$ is completely specified on the image of $f$ and arbitrary elsewhere."
   ]
  },
  {
   "cell_type": "code",
   "execution_count": 3,
   "metadata": {
    "collapsed": false
   },
   "outputs": [
    {
     "name": "stdout",
     "output_type": "stream",
     "text": [
      "True\n",
      "[1, 1, 6, 87, 2200, 84245, 4492656, 315937195, 28186856832, 3099006365769]\n"
     ]
    }
   ],
   "source": [
    "def a239750_1(n):\n",
    "    return sum(binomial(n,k) * stirling_number2(n,k) * factorial(k) * n^(n-k) for k in srange(n+1))\n",
    "\n",
    "def a239750_2(n):\n",
    "    return sum(binomial(n,k) * k^n * (n-1)^(n-k) for k in srange(n+1))\n",
    "\n",
    "print all(a239750_1(n) == a239750_2(n) for n in range(20))\n",
    "print [a239750_2(n) for n in range(10)]"
   ]
  },
  {
   "cell_type": "markdown",
   "metadata": {},
   "source": [
    "Next, let us look at $gff=f$ ([A235328](https://oeis.org/A235328)).  Here, $f=g^{-1}$ on the image of $f$, in particular both $f$ and $g$ are invertible on the image of $f$.  If there are $k$ points in the image of $f$ then there are $k!$ ways of assigning $f$ on the image of $f$, which then completely specifies $g$ on the image of $f$.  On the points outside the image of $f$ there are $k^{n-k}$ ways of assigning $f$ since it must map into its image.  Since $f$ permutes the elements of the image of $f$, we know that every point in the image of $f$  is mapped by $f$ from some point in the image of $f$, so we do not need to worry about only mapping to a subset.  Finally $g$ is completely arbitrary outside the image of $f$ so there are $n^{n-k}$ ways of assigning it.  So combining everything we have\n",
    "$$\\#(f,g)=\\sum_{k=0}^n\\binom{n}{k}k!\\;(nk)^{n-k}$$"
   ]
  },
  {
   "cell_type": "markdown",
   "metadata": {},
   "source": [
    "Let us look at $ggf=f$ ([A239771](https://oeis.org/A239771)).  Here $g$ is an involution on the image of $f$.  We can s"
   ]
  }
 ],
 "metadata": {
  "kernelspec": {
   "display_name": "SageMath 7.3",
   "language": "",
   "name": "sagemath"
  },
  "language_info": {
   "codemirror_mode": {
    "name": "ipython",
    "version": 2
   },
   "file_extension": ".py",
   "mimetype": "text/x-python",
   "name": "python",
   "nbconvert_exporter": "python",
   "pygments_lexer": "ipython2",
   "version": "2.7.10"
  }
 },
 "nbformat": 4,
 "nbformat_minor": 0
}
