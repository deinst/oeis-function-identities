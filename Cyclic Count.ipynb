{
 "cells": [
  {
   "cell_type": "markdown",
   "metadata": {},
   "source": [
    "We want to count [A239760](https://oeis.org/A239760) the number of pairs of functions $(f,g)$ on $[n]$ such that $ffg=f$.  Note that the depth of a tree in the functional graph of $f$ is at most one, since if the maximum depth point $x$ is greater than 1, then $g(x)$ must have depth one greater, contradicting the assumption that $x$ was the maximum depth point.\n",
    "\n",
    "So $f$ consists of a bunch of fuzzy cycles, so let us look at the number of functions $g$ such that $ffg=f$ where the functional graph of $f$ is a cycle with $k$ vertices.  Let us label the points on the cycle $v_1,v_2,\\dots,v_k$ in cyclic order. If for $v_i$ on the cycle $f^{-1}(v_i)$ has cardinality $x_i$, where $x_i\\ge 1$ since $v_i$ has at least its predecessor on the cycle, then the number of $g$ that satisfy $ffg=f$ is $x_1^{x_2}x_2^{x_3}\\cdots x_k^{x_1}$ since each predecessor of $v_i$ can map to any predecessor of $v_{i-1}$ (where the subtraction is modulo the cycle.\n",
    "\n",
    "Given $n$ elements and $k$ points on the cycle, there are $\\binom{n}{k}$ ways of choosing the elements on the cycle, and $(k-1)!$ ways of ordering the cycle and for any composition of $n-k$ into $k$ parts $y_1,y_2,\\dots,y_k$ there are $\\binom{n-k}{y_1,y_2,\\dots,y_k}$ ways of doing this and ${(y_1+1)}^{y_2+1}{(y_2+1)}^{y_3+1}\\cdots{(y_k+1)}^{y_1+1}$ ways of assigning $g$.  So altogether\n",
    "$$\\sum_{k=1}^n \\binom{n}{k}(k-1)!\\sum_{y_1+y_2+\\cdots+y_k=n-k}\\binom{n-k}{y_1,y_2,\\dots,y_k}\\prod_{i=1}^k{(y_i+1)}^{y_{i+1}+1}$$\n",
    "where $y_{k+1}=y_1$.\n",
    "\n",
    "We can then use eqn (5.7) from EC2 to get the count with any number of connected components.\n",
    "\n",
    "This is probably best computed using dynamic programming, but let us compute it directly first."
   ]
  },
  {
   "cell_type": "code",
   "execution_count": null,
   "metadata": {
    "collapsed": false
   },
   "outputs": [],
   "source": [
    "def arrange_single_component(n,k):\n",
    "    return sum(multinomial(y)*prod((y[i]+1)^(y[(i+1) % k]+1) for i in srange(k)) for y in IntegerVectors(n-k,k))\n",
    "\n",
    "@CachedFunction\n",
    "def count_single_component(n):\n",
    "    return sum(binomial(n,k) * factorial(k-1) * arrange_single_component(n,k) for k in srange(1, n+1))\n",
    "\n",
    "@CachedFunction\n",
    "def a(n):\n",
    "    if n == 0:\n",
    "        return 1\n",
    "    else:\n",
    "        return sum(a(k) * count_single_component(n - k) * binomial(n-1, k) for k in srange(n))\n",
    "\n",
    "\n",
    "print [count_single_component(n) for n in srange(1,10)]\n",
    "print [a(n) for n in srange(19)]\n",
    "    \n",
    "    "
   ]
  },
  {
   "cell_type": "markdown",
   "metadata": {},
   "source": [
    "For a dynamic programming approach, we want to speed the computation of the sum over the exponentially many compositions of $n-k$ into $k$ parts.  Let us call the inner sum over the compositions into $k$ parts, $S$, so that\n",
    "$$S=\\sum_{y_1+y_2+\\cdots+y_k=n-k}\\binom{n-k}{y_1,y_2,\\dots,y_k}\\prod_{i=1}^k{(y_i+1)}^{y_{i+1}+1}$$\n",
    "\n",
    "and rewrite it as\n",
    "$$S=\\sum_{y_1+y_k\\le n-k}{(y_k+1)}^{y_1+1}(n-k)!\\frac{1}{y_k!}\\sum_{y_1+y_2+\\cdots+y_k=n-k}\\prod_{i=1}^{k-1}\\frac{{(y_i+1)}^{y_{i+1}+1}}{y_i!}.$$\n",
    "\n",
    "Now if we define a function $b$ to represent the inner sum\n",
    "$$b(j,y_1,y_j,s)=\\frac{1}{y_j!}\\sum_{y_1+y_2+\\cdots+y_j=s}\\prod_{i=1}^{j-1}\\frac{{(y_i+1)}^{y_{i+1}+1}}{y_i!}$$\n",
    "\n",
    "then our sum becomes\n",
    "$$S=\\sum_{y_1+y_k\\le n-k}(n-k)!{(y_k+1)}^{y_1+1} b(k,y_1,y_k,n-k).$$\n",
    "\n",
    "\n",
    "If $k=1$ or $k=2$ then computing the number of pairs where $f$ has a single component and cycle length $k$ is easy, so we only need to compute $b$ for $j\\ge 3$.\n",
    "If $j=3$ then for $y_1+y_3\\le s$ we have:\n",
    "$$b(3,y_1,y_3,s) = \\frac{{(y_1+1)}^{s-y_1-y_3+1}{(s-y_1-y_3+1)}^{y_3+1}}{y_1!(s-y_1-y_3)!y_3!}$$\n",
    "and for $j>3$ we have recursively:\n",
    "$$b(j,y_1,y_j,s) = \\frac{1}{y_j!}\\sum_{y_{j-1}=0}^{s-y_1-y_j} {(y_{j-1}+1)}^{y_j+1}b(j-1,y_1,y_{j-1},s-y_j) .$$\n",
    "\n",
    "\n",
    "It is clear that we cannot memoize everything, as four variables are still way too many, the amount of space grows more than quarticly in $n$ but this should be enough to get up to a hundred or so."
   ]
  },
  {
   "cell_type": "code",
   "execution_count": null,
   "metadata": {
    "collapsed": false
   },
   "outputs": [],
   "source": [
    "@CachedFunction\n",
    "def r(j, y1, yj, s):\n",
    "    if j == 3:\n",
    "        y = s - y1 - yj\n",
    "        return Integer((y+1))^(yj+1) * Integer((y1+1))^(y+1) / (factorial(y1) * factorial(y) * factorial(yj))\n",
    "    else:\n",
    "        return sum((y+1)^(yj+1) * r(j-1, y1, y, s-yj) for y in IntegerRange(0, s-y1-yj+1)) / factorial(yj)\n",
    "        \n",
    "\n",
    "def memoize_single_component(n, k):\n",
    "    if k == 1:\n",
    "        return n^n\n",
    "    elif k == 2:\n",
    "        return sum(binomial(n-2,j)*(j+1)^(n-1-j)*(n-1-j)^(j+1) for j in srange(n-1))\n",
    "    else:\n",
    "        return sum((yk+1)^(y1+1) * factorial(n-k) * r(k, y1, yk, n-k) \n",
    "                   for y1 in IntegerRange(n-k+1) for yk in srange(n-k-y1+1))\n",
    "    \n",
    "print all(memoize_single_component(n, k) == arrange_single_component(n, k) for n in srange(1,8) for k in srange(1,5))    "
   ]
  },
  {
   "cell_type": "markdown",
   "metadata": {},
   "source": [
    "Ok, things seem to be working so far.\n",
    "\n",
    "Lets try everything together and see how far we get"
   ]
  },
  {
   "cell_type": "code",
   "execution_count": null,
   "metadata": {
    "collapsed": false
   },
   "outputs": [],
   "source": [
    "@CachedFunction\n",
    "def count_single_component2(n):\n",
    "    return sum(binomial(n,k) * factorial(k-1) * memoize_single_component(n,k) for k in srange(1, n+1))\n",
    "\n",
    "@CachedFunction\n",
    "def a2(n):\n",
    "    if n == 0:\n",
    "        return 1\n",
    "    else:\n",
    "        return sum(a2(k) * count_single_component2(n - k) * binomial(n-1, k) for k in srange(n))\n",
    "\n",
    "print [count_cycles2(n) for n in srange(1,10)]\n",
    "print [a2(n) for n in srange(70)]\n",
    "print len(r.cache)"
   ]
  },
  {
   "cell_type": "code",
   "execution_count": null,
   "metadata": {
    "collapsed": false
   },
   "outputs": [],
   "source": [
    "#Lets make a b-file\n",
    "\n",
    "for i in srange(101):\n",
    "    if i == 0:\n",
    "        print 0, 1\n",
    "    else:\n",
    "        print i, a2(i)"
   ]
  },
  {
   "cell_type": "markdown",
   "metadata": {},
   "source": [
    "This has not gotten us much mathematically, but enough so that we can conjecture that $a(n)$ is divisible by $n$. We could extend this to compute the number of pairs such that fffg=f and so forth, but that would involve keeping track of even more state."
   ]
  }
 ],
 "metadata": {
  "git": {
   "suppress_outputs": true
  },
  "kernelspec": {
   "display_name": "SageMath 7.3",
   "language": "",
   "name": "sagemath"
  },
  "language_info": {
   "codemirror_mode": {
    "name": "ipython",
    "version": 2
   },
   "file_extension": ".py",
   "mimetype": "text/x-python",
   "name": "python",
   "nbconvert_exporter": "python",
   "pygments_lexer": "ipython2",
   "version": "2.7.10"
  }
 },
 "nbformat": 4,
 "nbformat_minor": 0
}