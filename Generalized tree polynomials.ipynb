{
 "cells": [
  {
   "cell_type": "markdown",
   "metadata": {},
   "source": [
    "Generalized Tree Polynomial experiments.\n",
    "\n",
    "In the ordinary tree polynomials $t_n(x)$  the coefficient of $x^k$ is the number of functional digraphs on $[n]$ that have $k$ connected components. The generalized tree polynomials are polynomials $t_{n,r}(x)$ such that the coefficient of $x^k$ is the number of functional digraphs $f$ such that $f^r$ has $k$ components.\n",
    "\n",
    "The generalized tree polynomials can be constructed using the enumeration of functional digraphs having one component and $k$ recurrent vertices.  There are $$\\binom{n-1}{k-1} n^{n-k} (k-1)!$$ single component functional digraphs having $k$ vertices in the recurrent cycle. From this we can construct a polynomial $p_{n,r}(x)$ where the coefficient of $x^k$  enumerates the number of functional digraphs $f$ on $n$ vertices having one component and $f^r$ has $k$ components.  This is $$p_{n,r}(x) = \\sum_{k=1}^n \\binom{n-1}{k-1} n^{n-k} (k-1)! x^{\\gcd(k,r)}.$$\n",
    "When $f$ is a cycle of length $k$, $f^r$ is $\\gcd(k,r)$ cycles of length $k/\\gcd(k,r)$.\n",
    "\n",
    "Now if we let $$Z_r(x,y) = \\sum_{n=1}^\\infty p_{n,r}(x) y^n$$ then we have \n",
    "$$e^{Z_r(x,y)}=\\sum_{n=0}^\\infty t_{n,r}(x)y^n.$$\n",
    "\n",
    "We can define $t_{n,r}$ recursively by letting $t_{0,r}=0$ and then\n",
    "$$t_{n,r}(x) = \\sum_{k=0}^{n-1}\\binom{n-1}{k}t_{k,r}(x)p_{n-k,r}(x).$$\n",
    "\n",
    "\n",
    "We can rewrite the definition of $p$ by expanding the binomial to get\n",
    "$$p_{n,r}(x) = \\sum_{k=1}^n \\frac{(n-1)!}{(n-k)!} n^{n-k} x^{\\gcd(k,r)}$$\n",
    "$$p_{n,r}(x) = (n-1)! \\sum_{k=0}^{n-1}\\frac{n^k}{k!}x^{gcd(n-k,r)}$$\n",
    "\n",
    "so if we let \n",
    "$$q_{n,r}(x) = \\sum_{k=0}^{n-1}\\frac{n^k}{k!}x^{gcd(n-k,r)}$$\n",
    "then\n",
    "$$t_{n,r}(x) = (n-1)!\\sum_{k=0}^{n-1}\\frac{t_{k,r}(x)q_{n-k,r}(x)}{k!},$$\n",
    "a result somewhat easier to compute.\n",
    "\n",
    "A rudimententary implementation:"
   ]
  },
  {
   "cell_type": "code",
   "execution_count": null,
   "metadata": {
    "collapsed": false
   },
   "outputs": [],
   "source": [
    "R.<x> = QQ['x']\n",
    "@CachedFunction\n",
    "def q(n,r):\n",
    "    return sum(n^k * x^gcd(n - k, r) / factorial(k) for k in range(n))\n",
    "\n",
    "@CachedFunction\n",
    "def t(n,r):\n",
    "    if n == 0:\n",
    "        return 1\n",
    "    else:\n",
    "        return factorial(n - 1) * sum(t(k, r) * q(n - k, r) / factorial(k) for k in range(n))\n",
    "\n"
   ]
  },
  {
   "cell_type": "markdown",
   "metadata": {},
   "source": [
    "Now we can count the number of ordered pairs of functions $(f,g)$ on $[n]$ such that $fg=f$ (this is A239761).  Since $f=fg=fg^k$ for any $k$ we see that $f$ is constant on each connected component of $g$. As there are $n$ possible values for $f$ on each component the number of ordered pairs is the sum of $n$ to the number of components over all possible $g$ and this is just $t_{n,1}(n)$. We can also compute this using the usual combinatorial functions.  These differ in the $n=0$ term inconsequentially."
   ]
  },
  {
   "cell_type": "code",
   "execution_count": null,
   "metadata": {
    "collapsed": false
   },
   "outputs": [],
   "source": [
    "print [sum(n^(n-j)*sum(n^k*binomial(n-1,j)*stirling_number1(j+1,k+1) for k in range(0,j+1)) for j in range(0,n)) for  n in range(10)]    \n",
    "print [t(n,1).subs(x=n) for n in range(10)]"
   ]
  },
  {
   "cell_type": "markdown",
   "metadata": {},
   "source": [
    "We can similarly compute the number of ordered pairs $fgg=f$ (A239777).  Here $f$ is constant over connected components of $g^2$, so the number of pairs is $t_{n,2}(n)$. I don't know a simpler way of computing this."
   ]
  },
  {
   "cell_type": "code",
   "execution_count": null,
   "metadata": {
    "collapsed": false
   },
   "outputs": [],
   "source": [
    "print [t(n,2).subs(x=n) for n in range(10)]"
   ]
  },
  {
   "cell_type": "markdown",
   "metadata": {},
   "source": [
    "The computations for $fg^r=f$ is exactly analogous for $r>0$."
   ]
  },
  {
   "cell_type": "code",
   "execution_count": null,
   "metadata": {
    "collapsed": false
   },
   "outputs": [],
   "source": [
    "print \"A245912: fg^3=f \", [t(n,3).subs(x=n) for n in range(10)]\n",
    "print \"A245913: fg^4=f \", [t(n,4).subs(x=n) for n in range(10)]\n",
    "print \"A245914: fg^5=f \", [t(n,5).subs(x=n) for n in range(10)]\n",
    "print \"A245915: fg^6=f \", [t(n,6).subs(x=n) for n in range(10)]\n",
    "print \"A245915: fg^7=f \", [t(n,7).subs(x=n) for n in range(10)]\n",
    "print \"A245915: fg^8=f \", [t(n,8).subs(x=n) for n in range(10)]\n",
    "print \"A245915: fg^9=f \", [t(n,9).subs(x=n) for n in range(10)]\n",
    "print \"A245915: fg^10=f \", [t(n,10).subs(x=n) for n in range(10)]"
   ]
  },
  {
   "cell_type": "markdown",
   "metadata": {},
   "source": [
    "TODO:\n",
    "We should be able to do something similar for $ffg=ff$ where $f^2$ is constant on the connected components of $g$, but it is not clear how to do this.  Similarly for $fgg=fg$ and $fgf=fg$, though these seem even more difficult.\n",
    "\n",
    "There should be a nice underlying generating function description of $t_{n,r}$."
   ]
  }
 ],
 "metadata": {
  "git": {
   "suppress_outputs": true
  },
  "kernelspec": {
   "display_name": "SageMath 7.3",
   "language": "",
   "name": "sagemath"
  },
  "language_info": {
   "codemirror_mode": {
    "name": "ipython",
    "version": 2
   },
   "file_extension": ".py",
   "mimetype": "text/x-python",
   "name": "python",
   "nbconvert_exporter": "python",
   "pygments_lexer": "ipython2",
   "version": "2.7.10"
  }
 },
 "nbformat": 4,
 "nbformat_minor": 0
}